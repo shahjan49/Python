{
  "nbformat": 4,
  "nbformat_minor": 0,
  "metadata": {
    "colab": {
      "provenance": [],
      "authorship_tag": "ABX9TyPHCPr+LeounA4OeX2v5iom"
    },
    "kernelspec": {
      "name": "python3",
      "display_name": "Python 3"
    },
    "language_info": {
      "name": "python"
    }
  },
  "cells": [
    {
      "cell_type": "markdown",
      "source": [
        "Define a function that checks whether a passed string is palindrome or not."
      ],
      "metadata": {
        "id": "3KsJoRr7W98B"
      }
    },
    {
      "cell_type": "code",
      "source": [
        "def palindrome(string):\n",
        "  if (string==string[::-1]):\n",
        "    print(string,\"is Palindrome string\")\n",
        "  else:\n",
        "    print(string,\"is not Palindrome string\")"
      ],
      "metadata": {
        "id": "5g4pcZEF-bv0"
      },
      "execution_count": 61,
      "outputs": []
    },
    {
      "cell_type": "code",
      "source": [
        "palindrome('malayalam')"
      ],
      "metadata": {
        "colab": {
          "base_uri": "https://localhost:8080/"
        },
        "id": "65RL39pQFAn3",
        "outputId": "47338b4a-a2f9-4064-e64c-1b39489f822e"
      },
      "execution_count": 62,
      "outputs": [
        {
          "output_type": "stream",
          "name": "stdout",
          "text": [
            "malayalam is Palindrome string\n"
          ]
        }
      ]
    }
  ]
}