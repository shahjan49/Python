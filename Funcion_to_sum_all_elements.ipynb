{
  "nbformat": 4,
  "nbformat_minor": 0,
  "metadata": {
    "colab": {
      "provenance": [],
      "authorship_tag": "ABX9TyNW7tYqFvEk2XIV+UDa91eH"
    },
    "kernelspec": {
      "name": "python3",
      "display_name": "Python 3"
    },
    "language_info": {
      "name": "python"
    }
  },
  "cells": [
    {
      "cell_type": "markdown",
      "source": [
        "Create a function which adds all the elements in a given group of numbers."
      ],
      "metadata": {
        "id": "3KsJoRr7W98B"
      }
    },
    {
      "cell_type": "code",
      "source": [
        "def add_sum(numbers):\n",
        "  sum=0\n",
        "\n",
        "  for i in numbers:\n",
        "    sum=sum+i\n",
        "\n",
        "  print(sum)"
      ],
      "metadata": {
        "id": "CgT7_0hD0RK_"
      },
      "execution_count": 39,
      "outputs": []
    },
    {
      "cell_type": "code",
      "source": [
        "add_sum((2,3,6,8,5,9))"
      ],
      "metadata": {
        "colab": {
          "base_uri": "https://localhost:8080/"
        },
        "id": "kTZQflbb0em6",
        "outputId": "923bdb6c-995d-4eed-96e5-9774f6b743a5"
      },
      "execution_count": 41,
      "outputs": [
        {
          "output_type": "stream",
          "name": "stdout",
          "text": [
            "33\n"
          ]
        }
      ]
    }
  ]
}