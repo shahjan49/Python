{
  "nbformat": 4,
  "nbformat_minor": 0,
  "metadata": {
    "colab": {
      "provenance": [],
      "authorship_tag": "ABX9TyO3n8kEPUIu8Vpin0aG0mkl"
    },
    "kernelspec": {
      "name": "python3",
      "display_name": "Python 3"
    },
    "language_info": {
      "name": "python"
    }
  },
  "cells": [
    {
      "cell_type": "markdown",
      "source": [
        "Define a function that takes a list and prints a new list with no duplicate elements given in the first list."
      ],
      "metadata": {
        "id": "3KsJoRr7W98B"
      }
    },
    {
      "cell_type": "code",
      "source": [
        "def remove_dup(L):\n",
        "  L1=[]\n",
        "  for i in L:\n",
        "    if i not in L1:\n",
        "      L1.append(i)\n",
        "  print(L1,end=\" \")"
      ],
      "metadata": {
        "id": "5g4pcZEF-bv0"
      },
      "execution_count": 50,
      "outputs": []
    },
    {
      "cell_type": "code",
      "source": [
        "remove_dup([2,3,4,5,7,5,4,7,8,8])"
      ],
      "metadata": {
        "colab": {
          "base_uri": "https://localhost:8080/"
        },
        "id": "65RL39pQFAn3",
        "outputId": "8654ff04-0e0f-4c0b-e2c2-23d8ae6e8904"
      },
      "execution_count": 51,
      "outputs": [
        {
          "output_type": "stream",
          "name": "stdout",
          "text": [
            "[2, 3, 4, 5, 7, 8] "
          ]
        }
      ]
    }
  ]
}