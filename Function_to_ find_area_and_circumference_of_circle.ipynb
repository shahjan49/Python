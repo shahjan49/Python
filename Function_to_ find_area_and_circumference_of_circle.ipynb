{
  "nbformat": 4,
  "nbformat_minor": 0,
  "metadata": {
    "colab": {
      "provenance": [],
      "authorship_tag": "ABX9TyM0Le9DsHdOpxu/9vml51xW"
    },
    "kernelspec": {
      "name": "python3",
      "display_name": "Python 3"
    },
    "language_info": {
      "name": "python"
    }
  },
  "cells": [
    {
      "cell_type": "markdown",
      "source": [
        "Create a function which computes the area and circumference of a circle\n",
        "Formula :-\n",
        "Circumference - 2*pi*r ,\n",
        "Area - pi*r**2"
      ],
      "metadata": {
        "id": "3KsJoRr7W98B"
      }
    },
    {
      "cell_type": "code",
      "source": [
        "def circle(r):\n",
        "  area=3.14*r**2\n",
        "  circum=2*3.14*r\n",
        "  print(\"area of the circle is\",area,\"unit and circumference is\", circum,\"units\")"
      ],
      "metadata": {
        "id": "CgT7_0hD0RK_"
      },
      "execution_count": 35,
      "outputs": []
    },
    {
      "cell_type": "code",
      "source": [
        "circle(4)"
      ],
      "metadata": {
        "colab": {
          "base_uri": "https://localhost:8080/"
        },
        "id": "kTZQflbb0em6",
        "outputId": "7597d2a9-8a4f-4794-c97b-c9e15efe8777"
      },
      "execution_count": 36,
      "outputs": [
        {
          "output_type": "stream",
          "name": "stdout",
          "text": [
            "area of the circle is 50.24 unit and circumference is 25.12 units\n"
          ]
        }
      ]
    }
  ]
}