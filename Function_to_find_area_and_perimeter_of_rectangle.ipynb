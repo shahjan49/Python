{
  "nbformat": 4,
  "nbformat_minor": 0,
  "metadata": {
    "colab": {
      "provenance": [],
      "authorship_tag": "ABX9TyNESPGCz+LZ4pD9OIRuhCsw"
    },
    "kernelspec": {
      "name": "python3",
      "display_name": "Python 3"
    },
    "language_info": {
      "name": "python"
    }
  },
  "cells": [
    {
      "cell_type": "markdown",
      "source": [
        "Create a function which computes area and perimeter of a rectange\n",
        "Formula :-\n",
        "Area - l*b ,\n",
        "Perimeter - 2(l+b)."
      ],
      "metadata": {
        "id": "3KsJoRr7W98B"
      }
    },
    {
      "cell_type": "code",
      "source": [
        "def rect(l,b):\n",
        "  area=l*b\n",
        "  perimeter=2*(l+b)\n",
        "  print(\"area of rectange is\",area,\"and perimeter is\",perimeter)"
      ],
      "metadata": {
        "id": "CgT7_0hD0RK_"
      },
      "execution_count": 37,
      "outputs": []
    },
    {
      "cell_type": "code",
      "source": [
        "rect(4,2)"
      ],
      "metadata": {
        "colab": {
          "base_uri": "https://localhost:8080/"
        },
        "id": "kTZQflbb0em6",
        "outputId": "b7f410cb-d679-4364-9312-0e7ab756fb8c"
      },
      "execution_count": 38,
      "outputs": [
        {
          "output_type": "stream",
          "name": "stdout",
          "text": [
            "area of rectange is 8 and perimeter is 12\n"
          ]
        }
      ]
    }
  ]
}