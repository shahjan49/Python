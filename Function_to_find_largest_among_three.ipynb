{
  "nbformat": 4,
  "nbformat_minor": 0,
  "metadata": {
    "colab": {
      "provenance": [],
      "authorship_tag": "ABX9TyN3L0ojueK3oTJqhc+AyMwD"
    },
    "kernelspec": {
      "name": "python3",
      "display_name": "Python 3"
    },
    "language_info": {
      "name": "python"
    }
  },
  "cells": [
    {
      "cell_type": "markdown",
      "source": [
        "Create a function to accept three numbers as parameters and display the largest number out of the three given numbers."
      ],
      "metadata": {
        "id": "3KsJoRr7W98B"
      }
    },
    {
      "cell_type": "code",
      "source": [
        "def max(a,b,c):\n",
        "\n",
        "  if a>b and a>c:\n",
        "    print(a,\"is largest\")\n",
        "\n",
        "  elif b>a and b>c:\n",
        "    print(b,\"is largest\")\n",
        "\n",
        "  else:\n",
        "    print(c,\"is largest\")"
      ],
      "metadata": {
        "id": "CgT7_0hD0RK_"
      },
      "execution_count": 44,
      "outputs": []
    },
    {
      "cell_type": "code",
      "source": [
        "max(6,8,7)"
      ],
      "metadata": {
        "colab": {
          "base_uri": "https://localhost:8080/"
        },
        "id": "kTZQflbb0em6",
        "outputId": "a6fa89b3-977a-4955-f1c0-c70d70fea150"
      },
      "execution_count": 45,
      "outputs": [
        {
          "output_type": "stream",
          "name": "stdout",
          "text": [
            "8 is largest\n"
          ]
        }
      ]
    }
  ]
}