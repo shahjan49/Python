{
  "nbformat": 4,
  "nbformat_minor": 0,
  "metadata": {
    "colab": {
      "provenance": [],
      "authorship_tag": "ABX9TyPKMV6e7xtBEoPz6GfGCHE7"
    },
    "kernelspec": {
      "name": "python3",
      "display_name": "Python 3"
    },
    "language_info": {
      "name": "python"
    }
  },
  "cells": [
    {
      "cell_type": "markdown",
      "source": [
        "Define a function to create and print a list where the values are square of list given by user."
      ],
      "metadata": {
        "id": "3KsJoRr7W98B"
      }
    },
    {
      "cell_type": "code",
      "source": [
        "def print_sqr(L1):\n",
        "  L2=[]\n",
        "  for i in L1:\n",
        "    L2.append(i**2)\n",
        "  print(L2, end=\" \")"
      ],
      "metadata": {
        "id": "5g4pcZEF-bv0"
      },
      "execution_count": 29,
      "outputs": []
    },
    {
      "cell_type": "code",
      "source": [
        "print_sqr([2,4,6,5,3,7])"
      ],
      "metadata": {
        "colab": {
          "base_uri": "https://localhost:8080/"
        },
        "id": "65RL39pQFAn3",
        "outputId": "2c02a166-cf76-4416-eab4-489a8b948f37"
      },
      "execution_count": 30,
      "outputs": [
        {
          "output_type": "stream",
          "name": "stdout",
          "text": [
            "[4, 16, 36, 25, 9, 49] "
          ]
        }
      ]
    }
  ]
}