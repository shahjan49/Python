{
  "nbformat": 4,
  "nbformat_minor": 0,
  "metadata": {
    "colab": {
      "provenance": [],
      "authorship_tag": "ABX9TyPHDgi5iGNDoSfectbirB6I"
    },
    "kernelspec": {
      "name": "python3",
      "display_name": "Python 3"
    },
    "language_info": {
      "name": "python"
    }
  },
  "cells": [
    {
      "cell_type": "markdown",
      "source": [
        "Given two numbers 'x' and 'y', display the x is greater then/less than or equal to y."
      ],
      "metadata": {
        "id": "3KsJoRr7W98B"
      }
    },
    {
      "cell_type": "code",
      "execution_count": 3,
      "metadata": {
        "colab": {
          "base_uri": "https://localhost:8080/"
        },
        "id": "8eN3UoLiWkBP",
        "outputId": "9573b3b8-df54-458f-ca24-5c1906a314e2"
      },
      "outputs": [
        {
          "output_type": "stream",
          "name": "stdout",
          "text": [
            "enter value for x: 9\n",
            "enter value for y: 9\n",
            "value of both x and y are same\n"
          ]
        }
      ],
      "source": [
        "x=int(input(\"enter value for x: \"))\n",
        "y=int(input(\"enter value for y: \"))\n",
        "\n",
        "if x>y:\n",
        "  print(\"x is greater than y\")\n",
        "\n",
        "elif x==y: #both x and y are equal to each other\n",
        "  print(\"value of both x and y are same\")\n",
        "\n",
        "else:\n",
        "  print(\"y is greater than x\")"
      ]
    }
  ]
}
