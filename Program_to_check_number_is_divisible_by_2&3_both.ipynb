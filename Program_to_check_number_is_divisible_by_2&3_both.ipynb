{
  "nbformat": 4,
  "nbformat_minor": 0,
  "metadata": {
    "colab": {
      "provenance": [],
      "authorship_tag": "ABX9TyOnIYYDEWJtQ0u1JbmU4dac"
    },
    "kernelspec": {
      "name": "python3",
      "display_name": "Python 3"
    },
    "language_info": {
      "name": "python"
    }
  },
  "cells": [
    {
      "cell_type": "markdown",
      "source": [
        "Write a program to check whether a number given by a user is divisible by 2 and 3 both."
      ],
      "metadata": {
        "id": "3KsJoRr7W98B"
      }
    },
    {
      "cell_type": "code",
      "execution_count": 6,
      "metadata": {
        "colab": {
          "base_uri": "https://localhost:8080/"
        },
        "id": "8eN3UoLiWkBP",
        "outputId": "a43d7413-b673-4826-c225-e9eecd966136"
      },
      "outputs": [
        {
          "output_type": "stream",
          "name": "stdout",
          "text": [
            "enter any number 6\n",
            "the number is devisible by 2 and 3 both\n"
          ]
        }
      ],
      "source": [
        "n=int(input(\"enter any number \"))\n",
        "if n%2==0 and n%3==0:\n",
        "  print(\"the number is devisible by 2 and 3 both\")\n",
        "else:\n",
        "  print(\"The number is not devisible by both 2 and 3\")"
      ]
    }
  ]
}