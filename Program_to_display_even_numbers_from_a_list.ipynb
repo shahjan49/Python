{
  "nbformat": 4,
  "nbformat_minor": 0,
  "metadata": {
    "colab": {
      "provenance": [],
      "authorship_tag": "ABX9TyMluiTlY85bl5CzqQ1UcUPH"
    },
    "kernelspec": {
      "name": "python3",
      "display_name": "Python 3"
    },
    "language_info": {
      "name": "python"
    }
  },
  "cells": [
    {
      "cell_type": "markdown",
      "source": [
        "Take a list of numbers and display all the even numbers from the given list."
      ],
      "metadata": {
        "id": "3KsJoRr7W98B"
      }
    },
    {
      "cell_type": "code",
      "execution_count": 11,
      "metadata": {
        "colab": {
          "base_uri": "https://localhost:8080/"
        },
        "id": "8eN3UoLiWkBP",
        "outputId": "33bf6524-75e8-42ab-f237-28ecc8ed234d"
      },
      "outputs": [
        {
          "output_type": "stream",
          "name": "stdout",
          "text": [
            "2 4 6 12 14 "
          ]
        }
      ],
      "source": [
        "l1=[2,3,4,5,6,7,9,11,12,14,15]\n",
        "\n",
        "for i in l1:\n",
        "  if i%2==0:\n",
        "    print(i,end=\" \")"
      ]
    },
    {
      "cell_type": "code",
      "source": [
        "L1=[]\n",
        "n=int(input(\"enter range: \"))\n",
        "for i in range(0,n):\n",
        "  e=int(input(\"enter elements: \"))\n",
        "  L1.append(e)\n",
        "for i in range(n):\n",
        "  if L1[i]%2==0:\n",
        "    print(L1[i],end=\" \")"
      ],
      "metadata": {
        "colab": {
          "base_uri": "https://localhost:8080/"
        },
        "id": "UVd0zLPUpVRG",
        "outputId": "730b08c2-e07b-4152-8996-003661c69612"
      },
      "execution_count": 25,
      "outputs": [
        {
          "output_type": "stream",
          "name": "stdout",
          "text": [
            "enter range: 4\n",
            "enter elements: 6\n",
            "enter elements: 3\n",
            "enter elements: 8\n",
            "enter elements: 5\n",
            "6 8 "
          ]
        }
      ]
    }
  ]
}