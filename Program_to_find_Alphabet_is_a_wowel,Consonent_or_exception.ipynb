{
  "nbformat": 4,
  "nbformat_minor": 0,
  "metadata": {
    "colab": {
      "provenance": [],
      "authorship_tag": "ABX9TyPVsQq6h8PgNRNFa6YhcNGl"
    },
    "kernelspec": {
      "name": "python3",
      "display_name": "Python 3"
    },
    "language_info": {
      "name": "python"
    }
  },
  "cells": [
    {
      "cell_type": "markdown",
      "source": [
        "Take an alphabet as input from the user and check if the alphabet is a vowel, consonant or an exception\n",
        "\n",
        "Vowel - 'a','e','i','o','u'\n",
        "\n",
        "Exception - 'h', 'y'\n",
        "\n",
        "Consonant - rest other alphabets."
      ],
      "metadata": {
        "id": "3KsJoRr7W98B"
      }
    },
    {
      "cell_type": "code",
      "execution_count": 5,
      "metadata": {
        "colab": {
          "base_uri": "https://localhost:8080/"
        },
        "id": "8eN3UoLiWkBP",
        "outputId": "ea332381-d36b-4eb5-bac4-b95bfa7980bf"
      },
      "outputs": [
        {
          "output_type": "stream",
          "name": "stdout",
          "text": [
            "enter any alphabet: i\n",
            "The entered alphabet is a Vowel\n"
          ]
        }
      ],
      "source": [
        "Alph=input(\"enter any alphabet: \")\n",
        "if (Alph=='a' or Alph=='e' or Alph=='i' or Alph=='o' or Alph=='u'):\n",
        "  print(\"The entered alphabet is a Vowel\")\n",
        "elif (Alph=='h' or Alph=='y'):\n",
        "  print(\"The entered alphabet is a Exception\")\n",
        "else:\n",
        "  print(\"The entered alphabet is a Consonant\")"
      ]
    }
  ]
}