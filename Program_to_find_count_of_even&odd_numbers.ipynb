{
  "nbformat": 4,
  "nbformat_minor": 0,
  "metadata": {
    "colab": {
      "provenance": [],
      "authorship_tag": "ABX9TyMEbNDGpq9r+vxoEn5SR8so"
    },
    "kernelspec": {
      "name": "python3",
      "display_name": "Python 3"
    },
    "language_info": {
      "name": "python"
    }
  },
  "cells": [
    {
      "cell_type": "markdown",
      "source": [
        "Take a list of numbers and display the count of even numbers and count of odd numbers in the given list."
      ],
      "metadata": {
        "id": "3KsJoRr7W98B"
      }
    },
    {
      "cell_type": "code",
      "source": [
        "l3=[2,3,4,5,6,7,9,12,13]\n",
        "\n",
        "count_even=0\n",
        "count_odd=0\n",
        "\n",
        "for i in l3:\n",
        "  if i%2==0:\n",
        "    count_even=count_even+1\n",
        "\n",
        "  else:\n",
        "    count_odd=count_odd+1\n",
        "\n",
        "print(\"even numbers in the list are\", count_even,\"and odd numbers in the list are\", count_odd)"
      ],
      "metadata": {
        "colab": {
          "base_uri": "https://localhost:8080/"
        },
        "id": "PM__csYmwn7P",
        "outputId": "7eb24c46-27a3-40dc-c705-bf8db42294be"
      },
      "execution_count": 29,
      "outputs": [
        {
          "output_type": "stream",
          "name": "stdout",
          "text": [
            "even numbers in the list are 4 and odd numbers in the list are 5\n"
          ]
        }
      ]
    }
  ]
}