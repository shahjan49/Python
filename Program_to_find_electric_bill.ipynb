{
  "nbformat": 4,
  "nbformat_minor": 0,
  "metadata": {
    "colab": {
      "provenance": [],
      "authorship_tag": "ABX9TyNEeivFJtgOQG0g9+JhVrG+"
    },
    "kernelspec": {
      "name": "python3",
      "display_name": "Python 3"
    },
    "language_info": {
      "name": "python"
    }
  },
  "cells": [
    {
      "cell_type": "markdown",
      "source": [
        "Write a program to calculate the electricity bill by accepting the number of units consumed by the user as input. Use the following price chart for reference :-\n",
        "\n",
        "Price of first 100 units - no charge\n",
        "\n",
        "Price of next 100 units - Rs 5/- per unit\n",
        "\n",
        "After 200 units - Rs 10/- per unit."
      ],
      "metadata": {
        "id": "3KsJoRr7W98B"
      }
    },
    {
      "cell_type": "code",
      "execution_count": 9,
      "metadata": {
        "colab": {
          "base_uri": "https://localhost:8080/"
        },
        "id": "8eN3UoLiWkBP",
        "outputId": "1df05973-fb6f-4d0c-9f94-38ac7fbba12f"
      },
      "outputs": [
        {
          "output_type": "stream",
          "name": "stdout",
          "text": [
            "enter unit numbers of electricity 790\n",
            "elecric bill charge should be 6400\n"
          ]
        }
      ],
      "source": [
        "units=int(input(\"enter unit numbers of electricity \"))\n",
        "if units<=100:\n",
        "  print(\"no electric bill charge\")\n",
        "elif 100<units<=200:\n",
        "  print(\"electric bill charge should be\",(units-100)*5)\n",
        "else:\n",
        "  print(\"elecric bill charge should be\",((100*5)+(units-200)*10))"
      ]
    }
  ]
}