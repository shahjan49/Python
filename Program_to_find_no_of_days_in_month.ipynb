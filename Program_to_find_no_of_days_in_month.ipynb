{
  "nbformat": 4,
  "nbformat_minor": 0,
  "metadata": {
    "colab": {
      "provenance": [],
      "authorship_tag": "ABX9TyMFLXP1xkfdu5JFg6UoNtCA"
    },
    "kernelspec": {
      "name": "python3",
      "display_name": "Python 3"
    },
    "language_info": {
      "name": "python"
    }
  },
  "cells": [
    {
      "cell_type": "markdown",
      "source": [
        "Program which accepts month's name as input and display the number of days in the month as output."
      ],
      "metadata": {
        "id": "3KsJoRr7W98B"
      }
    },
    {
      "cell_type": "code",
      "source": [
        "month=input(\"enter Month name for no. of days in Month \")\n",
        "year=int(input(\"enter year \"))\n",
        "if month=='february':\n",
        "  if year%4==0:\n",
        "    print(\"The no. of days are 29\")\n",
        "  else:\n",
        "    print(\"The no. of days are 28\")\n",
        "elif month in ('january','march','may','july','august','october','december'):\n",
        "  print(\"The no. of days are 31\")\n",
        "elif month in ('april','june','september','november'):\n",
        "  print(\"The no. of days are 30\")"
      ],
      "metadata": {
        "colab": {
          "base_uri": "https://localhost:8080/"
        },
        "id": "kTZQflbb0em6",
        "outputId": "ad53be69-327f-4c0a-dc05-b6a6206962f3"
      },
      "execution_count": 1,
      "outputs": [
        {
          "output_type": "stream",
          "name": "stdout",
          "text": [
            "enter Month name for no. of days in Month march\n",
            "enter year 2023\n",
            "The no. of days are 31\n"
          ]
        }
      ]
    }
  ]
}