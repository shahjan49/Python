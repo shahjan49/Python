{
  "nbformat": 4,
  "nbformat_minor": 0,
  "metadata": {
    "colab": {
      "provenance": [],
      "authorship_tag": "ABX9TyP2XdHo3ts6YaUeNaMAY1Xx"
    },
    "kernelspec": {
      "name": "python3",
      "display_name": "Python 3"
    },
    "language_info": {
      "name": "python"
    }
  },
  "cells": [
    {
      "cell_type": "markdown",
      "source": [
        "Take any word as input from the user and count the number of vowels in the word."
      ],
      "metadata": {
        "id": "3KsJoRr7W98B"
      }
    },
    {
      "cell_type": "code",
      "source": [
        "word=input(\"enter any word: \")\n",
        "count=0\n",
        "i=0\n",
        "vowels=[\"a\",\"e\",\"i\",\"o\",\"u\"]\n",
        "for i in range(len(word)):\n",
        "  if word[i] in vowels:\n",
        "    count+=1\n",
        "print(\"The no. of vowels in this word are\",count)"
      ],
      "metadata": {
        "colab": {
          "base_uri": "https://localhost:8080/"
        },
        "id": "kTZQflbb0em6",
        "outputId": "5751d209-830a-43f0-ca52-f89be8cd4705"
      },
      "execution_count": 5,
      "outputs": [
        {
          "output_type": "stream",
          "name": "stdout",
          "text": [
            "enter any word: congratulations\n",
            "The no. of vowels in this word are 6\n"
          ]
        }
      ]
    }
  ]
}