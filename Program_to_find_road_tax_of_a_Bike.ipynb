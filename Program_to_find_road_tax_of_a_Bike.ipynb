{
  "nbformat": 4,
  "nbformat_minor": 0,
  "metadata": {
    "colab": {
      "provenance": [],
      "authorship_tag": "ABX9TyNjuf69BhofNE2R0NZxt6rd"
    },
    "kernelspec": {
      "name": "python3",
      "display_name": "Python 3"
    },
    "language_info": {
      "name": "python"
    }
  },
  "cells": [
    {
      "cell_type": "markdown",
      "source": [
        "Write a program to accept the cost price of a bike as input and display the road tax to be paid according to the following crieteria :-\n",
        "\n",
        "Cost price - 100000 Tax - 15%\n",
        "\n",
        "Cost price - between 50000 to 100000 Tax - 10%\n",
        "\n",
        "Cost price - less than 50000 Tax - 5%"
      ],
      "metadata": {
        "id": "3KsJoRr7W98B"
      }
    },
    {
      "cell_type": "code",
      "execution_count": 8,
      "metadata": {
        "colab": {
          "base_uri": "https://localhost:8080/"
        },
        "id": "8eN3UoLiWkBP",
        "outputId": "5a7735c9-e9e5-4204-c368-8722769fda49"
      },
      "outputs": [
        {
          "output_type": "stream",
          "name": "stdout",
          "text": [
            "enter the cost price of bike: 400000\n",
            "The road tax to be paid is 60000.0\n"
          ]
        }
      ],
      "source": [
        "cost_price=int(input(\"enter the cost price of bike: \"))\n",
        "if cost_price<50000:\n",
        "  print(\"The road tax to be paid is\",cost_price*0.05)\n",
        "elif 50000<=cost_price<=100000:\n",
        "  print(\"The road tax to be paid is\",cost_price*0.1)\n",
        "else:\n",
        "  print(\"The road tax to be paid is\",cost_price*0.15)"
      ]
    }
  ]
}