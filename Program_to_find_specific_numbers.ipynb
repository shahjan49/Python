{
  "nbformat": 4,
  "nbformat_minor": 0,
  "metadata": {
    "colab": {
      "provenance": [],
      "authorship_tag": "ABX9TyN6fAem5ahkxTK9WlftIpHg"
    },
    "kernelspec": {
      "name": "python3",
      "display_name": "Python 3"
    },
    "language_info": {
      "name": "python"
    }
  },
  "cells": [
    {
      "cell_type": "markdown",
      "source": [
        "Write a program to display only those numbers from a list that satisfies the following conditions:\n",
        "1. The number must be divisible by 7\n",
        "2. If the number is 140 then skip it and move to the next number in the list\n",
        "3. If the number in the list is greater than 630 then stop the loop"
      ],
      "metadata": {
        "id": "3KsJoRr7W98B"
      }
    },
    {
      "cell_type": "code",
      "source": [
        "L1=[2,35,5,63,90,70,45,140,570,630,660,49]\n",
        "for i in L1:\n",
        "  if i==140:\n",
        "    continue\n",
        "  elif i>630:\n",
        "    break\n",
        "  elif i%7==0:\n",
        "    print(i,end=\" \")"
      ],
      "metadata": {
        "colab": {
          "base_uri": "https://localhost:8080/"
        },
        "id": "5g4pcZEF-bv0",
        "outputId": "2f9e4dc1-c4fe-47e4-9c4b-07bbe104513e"
      },
      "execution_count": 12,
      "outputs": [
        {
          "output_type": "stream",
          "name": "stdout",
          "text": [
            "35 63 70 630 "
          ]
        }
      ]
    }
  ]
}