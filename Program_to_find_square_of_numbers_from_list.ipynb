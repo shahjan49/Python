{
  "nbformat": 4,
  "nbformat_minor": 0,
  "metadata": {
    "colab": {
      "provenance": [],
      "authorship_tag": "ABX9TyPFggudHsFt6riUNlAa47Cg"
    },
    "kernelspec": {
      "name": "python3",
      "display_name": "Python 3"
    },
    "language_info": {
      "name": "python"
    }
  },
  "cells": [
    {
      "cell_type": "markdown",
      "source": [
        "Take a list of numbers and display the square of all the numbers given in the list."
      ],
      "metadata": {
        "id": "3KsJoRr7W98B"
      }
    },
    {
      "cell_type": "code",
      "execution_count": 28,
      "metadata": {
        "colab": {
          "base_uri": "https://localhost:8080/"
        },
        "id": "8eN3UoLiWkBP",
        "outputId": "18c6a9b4-4829-4a96-9866-d4de35691997"
      },
      "outputs": [
        {
          "output_type": "stream",
          "name": "stdout",
          "text": [
            "4 9 16 25 36 "
          ]
        }
      ],
      "source": [
        "l2=[2,3,4,5,6]\n",
        "\n",
        "for i in l2:\n",
        "  print(i**2,end=\" \")"
      ]
    },
    {
      "cell_type": "code",
      "source": [
        "L1=[]\n",
        "n=int(input(\"enter range: \"))\n",
        "for i in range(0,n):\n",
        "  e=int(input(\"enter elements: \"))\n",
        "  L1.append(e)\n",
        "for i in range(n):\n",
        "  print(L1[i]**2,end=\" \")"
      ],
      "metadata": {
        "colab": {
          "base_uri": "https://localhost:8080/"
        },
        "id": "UVd0zLPUpVRG",
        "outputId": "e062c567-3de2-4a38-b2ac-fc9f0c28f191"
      },
      "execution_count": 26,
      "outputs": [
        {
          "output_type": "stream",
          "name": "stdout",
          "text": [
            "enter range: 4\n",
            "enter elements: 3\n",
            "enter elements: 4\n",
            "enter elements: 2\n",
            "enter elements: 5\n",
            "9 16 4 25 "
          ]
        }
      ]
    },
    {
      "cell_type": "code",
      "source": [],
      "metadata": {
        "id": "PM__csYmwn7P"
      },
      "execution_count": null,
      "outputs": []
    }
  ]
}