{
  "nbformat": 4,
  "nbformat_minor": 0,
  "metadata": {
    "colab": {
      "provenance": [],
      "authorship_tag": "ABX9TyP6y81tyXfAh7aGn8C11w2y"
    },
    "kernelspec": {
      "name": "python3",
      "display_name": "Python 3"
    },
    "language_info": {
      "name": "python"
    }
  },
  "cells": [
    {
      "cell_type": "markdown",
      "source": [
        "Take a number as input from the user and check if the number is positive, negative or zero (use nested statements only)."
      ],
      "metadata": {
        "id": "3KsJoRr7W98B"
      }
    },
    {
      "cell_type": "code",
      "execution_count": 22,
      "metadata": {
        "colab": {
          "base_uri": "https://localhost:8080/"
        },
        "id": "8eN3UoLiWkBP",
        "outputId": "d3032112-ad06-4d8e-ab43-3ed1f389b29e"
      },
      "outputs": [
        {
          "output_type": "stream",
          "name": "stdout",
          "text": [
            "enter a number: -98\n",
            "-98 is a negative number\n"
          ]
        }
      ],
      "source": [
        "num=int(input(\"enter a number: \"))\n",
        "\n",
        "if num>=0:\n",
        "\n",
        "  if num>0:\n",
        "    print(num,\"is a positive number\")\n",
        "\n",
        "  else:\n",
        "    print(\"zero\")\n",
        "\n",
        "else:\n",
        "  print(num,\"is a negative number\")"
      ]
    }
  ]
}