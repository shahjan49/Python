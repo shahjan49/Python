{
  "nbformat": 4,
  "nbformat_minor": 0,
  "metadata": {
    "colab": {
      "provenance": [],
      "authorship_tag": "ABX9TyPCyV9ZmCeumN0N+Hujb4Y1"
    },
    "kernelspec": {
      "name": "python3",
      "display_name": "Python 3"
    },
    "language_info": {
      "name": "python"
    }
  },
  "cells": [
    {
      "cell_type": "markdown",
      "source": [
        "Take three numbers 'x', 'y' and 'z' as input from the user and check which number is greater."
      ],
      "metadata": {
        "id": "3KsJoRr7W98B"
      }
    },
    {
      "cell_type": "code",
      "execution_count": 2,
      "metadata": {
        "colab": {
          "base_uri": "https://localhost:8080/"
        },
        "id": "8eN3UoLiWkBP",
        "outputId": "0ed467e6-967d-4269-cd35-9bfb63926503"
      },
      "outputs": [
        {
          "output_type": "stream",
          "name": "stdout",
          "text": [
            "enter value of x: 54\n",
            "enter value of y: 53\n",
            "enter value of z: 67\n",
            "The greatest number is 67\n"
          ]
        }
      ],
      "source": [
        "x=int(input(\"enter value of x: \"))\n",
        "y=int(input(\"enter value of y: \"))\n",
        "z=int(input(\"enter value of z: \"))\n",
        "if x>y and x>z:\n",
        "  print(\"The greatest number is\",x)\n",
        "elif y>x and y>z:\n",
        "  print(\"The greatest number is\",y)\n",
        "else:\n",
        "  print(\"The greatest number is\",z)"
      ]
    }
  ]
}