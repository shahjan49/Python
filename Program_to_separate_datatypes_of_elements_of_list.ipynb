{
  "nbformat": 4,
  "nbformat_minor": 0,
  "metadata": {
    "colab": {
      "provenance": [],
      "authorship_tag": "ABX9TyN0lk28Ek5grLs50f/e5qcC"
    },
    "kernelspec": {
      "name": "python3",
      "display_name": "Python 3"
    },
    "language_info": {
      "name": "python"
    }
  },
  "cells": [
    {
      "cell_type": "markdown",
      "source": [
        "Program that appends datatype of elements from a list to a separate list."
      ],
      "metadata": {
        "id": "3KsJoRr7W98B"
      }
    },
    {
      "cell_type": "code",
      "source": [
        "L1=[2,3.8,'India',-5,8.9,4,'UttarPradesh',9.6,'Bengal']\n",
        "dtype_list=[]\n",
        "for i in L1:\n",
        "  dtype_list.append(type(i))\n",
        "print(\"data type of elements is\",dtype_list)"
      ],
      "metadata": {
        "colab": {
          "base_uri": "https://localhost:8080/"
        },
        "id": "5g4pcZEF-bv0",
        "outputId": "613770ab-5c19-49d9-f500-baf35e58f70f"
      },
      "execution_count": 10,
      "outputs": [
        {
          "output_type": "stream",
          "name": "stdout",
          "text": [
            "data type of elements is [<class 'int'>, <class 'float'>, <class 'str'>, <class 'int'>, <class 'float'>, <class 'int'>, <class 'str'>, <class 'float'>, <class 'str'>]\n"
          ]
        }
      ]
    }
  ]
}