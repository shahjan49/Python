{
  "nbformat": 4,
  "nbformat_minor": 0,
  "metadata": {
    "colab": {
      "provenance": [],
      "authorship_tag": "ABX9TyNFoDfbNLrgO1XEW6TIOXEI"
    },
    "kernelspec": {
      "name": "python3",
      "display_name": "Python 3"
    },
    "language_info": {
      "name": "python"
    }
  },
  "cells": [
    {
      "cell_type": "markdown",
      "source": [
        "Write a program to separate even and odd numbers in two distinct lists from a list of numbers."
      ],
      "metadata": {
        "id": "3KsJoRr7W98B"
      }
    },
    {
      "cell_type": "code",
      "source": [
        "L1=[7,5,9,4,6,8,10,16,78,90,50]\n",
        "even=[]\n",
        "odd=[]\n",
        "for i in L1:\n",
        "  if i%2==0:\n",
        "    even.append(i)\n",
        "  else:\n",
        "    odd.append(i)\n",
        "print(\"the list of even numbers is\",even)\n",
        "print(\"the list of odd numbers is\",odd)"
      ],
      "metadata": {
        "colab": {
          "base_uri": "https://localhost:8080/"
        },
        "id": "kTZQflbb0em6",
        "outputId": "fd028dd5-3c1c-4b00-de9a-22ae457c7220"
      },
      "execution_count": 6,
      "outputs": [
        {
          "output_type": "stream",
          "name": "stdout",
          "text": [
            "the list of even numbers is [4, 6, 8, 10, 16, 78, 90, 50]\n",
            "the list of odd numbers is [7, 5, 9]\n"
          ]
        }
      ]
    },
    {
      "cell_type": "code",
      "source": [
        "L1=[]\n",
        "even=[]\n",
        "odd=[]\n",
        "n=int(input(\"Enter range of list: \"))\n",
        "for i in range(0,n):\n",
        "  e=int(input(\"enter elements in list: \"))\n",
        "  L1.append(e)\n",
        "for i in L1:\n",
        "  if i%2==0:\n",
        "    even.append(i)\n",
        "  else:\n",
        "    odd.append(i)\n",
        "print(\"the list of even numbers is\",even)\n",
        "print(\"the list of odd numbers is\",odd)"
      ],
      "metadata": {
        "colab": {
          "base_uri": "https://localhost:8080/"
        },
        "id": "2CZrnPAA9rZX",
        "outputId": "7602b42c-9929-40a8-9c93-70a702af06df"
      },
      "execution_count": 8,
      "outputs": [
        {
          "output_type": "stream",
          "name": "stdout",
          "text": [
            "Enter range of list: 4\n",
            "enter elements in list: 4\n",
            "enter elements in list: 5\n",
            "enter elements in list: 6\n",
            "enter elements in list: 7\n",
            "the list of even numbers is [4, 6]\n",
            "the list of odd numbers is [5, 7]\n"
          ]
        }
      ]
    },
    {
      "cell_type": "code",
      "source": [
        "6"
      ],
      "metadata": {
        "id": "5g4pcZEF-bv0"
      },
      "execution_count": null,
      "outputs": []
    }
  ]
}