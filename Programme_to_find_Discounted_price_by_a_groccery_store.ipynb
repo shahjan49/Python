{
  "nbformat": 4,
  "nbformat_minor": 0,
  "metadata": {
    "colab": {
      "provenance": [],
      "authorship_tag": "ABX9TyPIxtbRg7UIXALpzwn+ddlL"
    },
    "kernelspec": {
      "name": "python3",
      "display_name": "Python 3"
    },
    "language_info": {
      "name": "python"
    }
  },
  "cells": [
    {
      "cell_type": "markdown",
      "source": [
        "TA grocery store allows discount of 20% on items purchased worth more than 2000 INR. Considering price of each commodity to be 200 INR, calculate the discounted price to be paid at the end.\n",
        "\n",
        "Take number of commodities purchased as input from the user."
      ],
      "metadata": {
        "id": "3KsJoRr7W98B"
      }
    },
    {
      "cell_type": "code",
      "execution_count": 14,
      "metadata": {
        "colab": {
          "base_uri": "https://localhost:8080/"
        },
        "id": "8eN3UoLiWkBP",
        "outputId": "c9403b3a-0ee0-4fe5-9559-1f95e57845f4"
      },
      "outputs": [
        {
          "output_type": "stream",
          "name": "stdout",
          "text": [
            "enter the number of items: 13\n",
            "your discounted price is 2080.0\n"
          ]
        }
      ],
      "source": [
        "items=int(input(\"enter the number of items: \"))\n",
        "price=200*items\n",
        "\n",
        "if price>2000:\n",
        "  print(\"your discounted price is\",price-0.2*price)\n",
        "\n",
        "else:\n",
        "  print(\"your final price without discounts\",price)"
      ]
    }
  ]
}