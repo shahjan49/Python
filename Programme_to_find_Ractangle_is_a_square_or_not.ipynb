{
  "nbformat": 4,
  "nbformat_minor": 0,
  "metadata": {
    "colab": {
      "provenance": [],
      "authorship_tag": "ABX9TyNjBJIHw+a7rdX8+93m69Yi"
    },
    "kernelspec": {
      "name": "python3",
      "display_name": "Python 3"
    },
    "language_info": {
      "name": "python"
    }
  },
  "cells": [
    {
      "cell_type": "markdown",
      "source": [
        "Take length and breadth of a rectange as input from the user and check if the rectange is a square or not."
      ],
      "metadata": {
        "id": "3KsJoRr7W98B"
      }
    },
    {
      "cell_type": "code",
      "execution_count": 11,
      "metadata": {
        "colab": {
          "base_uri": "https://localhost:8080/"
        },
        "id": "8eN3UoLiWkBP",
        "outputId": "35c25d68-177e-42dc-d9dd-5e71c936fd06"
      },
      "outputs": [
        {
          "output_type": "stream",
          "name": "stdout",
          "text": [
            "enter length: 17\n",
            "enter breadth: 17\n",
            "rectangle is square\n"
          ]
        }
      ],
      "source": [
        "length=int(input(\"enter length: \"))\n",
        "breadth=int(input(\"enter breadth: \"))\n",
        "if length==breadth:\n",
        "  print(\"rectangle is square\")\n",
        "else:\n",
        "  print(\"ractangle is not square\")"
      ]
    }
  ]
}