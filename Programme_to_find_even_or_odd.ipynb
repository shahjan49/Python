{
  "nbformat": 4,
  "nbformat_minor": 0,
  "metadata": {
    "colab": {
      "provenance": [],
      "authorship_tag": "ABX9TyN3fQNTilfEGIxeQxyhrbvT"
    },
    "kernelspec": {
      "name": "python3",
      "display_name": "Python 3"
    },
    "language_info": {
      "name": "python"
    }
  },
  "cells": [
    {
      "cell_type": "markdown",
      "source": [
        "Take a number as input from the user and check if the number is even or odd."
      ],
      "metadata": {
        "id": "3KsJoRr7W98B"
      }
    },
    {
      "cell_type": "code",
      "execution_count": 9,
      "metadata": {
        "colab": {
          "base_uri": "https://localhost:8080/"
        },
        "id": "8eN3UoLiWkBP",
        "outputId": "43efc9d8-081c-4732-c8f8-8bdc2ab5b95c"
      },
      "outputs": [
        {
          "output_type": "stream",
          "name": "stdout",
          "text": [
            "enter value: 45\n",
            "45 is a odd number.\n"
          ]
        }
      ],
      "source": [
        "num=int(input(\"enter value: \"))\n",
        "if num%2==0:\n",
        "  print(num,\"is a even number.\")\n",
        "else:\n",
        "  print(num,\"is a odd number.\")"
      ]
    }
  ]
}