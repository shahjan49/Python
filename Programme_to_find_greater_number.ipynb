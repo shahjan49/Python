{
  "nbformat": 4,
  "nbformat_minor": 0,
  "metadata": {
    "colab": {
      "provenance": [],
      "authorship_tag": "ABX9TyOITldS8PkXP+ThaPQCr2iU"
    },
    "kernelspec": {
      "name": "python3",
      "display_name": "Python 3"
    },
    "language_info": {
      "name": "python"
    }
  },
  "cells": [
    {
      "cell_type": "markdown",
      "source": [
        "Given two numbers 'x' and 'y', display the greater out of the two numbers."
      ],
      "metadata": {
        "id": "3KsJoRr7W98B"
      }
    },
    {
      "cell_type": "code",
      "execution_count": 2,
      "metadata": {
        "colab": {
          "base_uri": "https://localhost:8080/"
        },
        "id": "8eN3UoLiWkBP",
        "outputId": "0b157723-b798-41a4-80ef-86e3da68b3d0"
      },
      "outputs": [
        {
          "output_type": "stream",
          "name": "stdout",
          "text": [
            "enter value for x: 5\n",
            "enter value for y: 4\n",
            "x is greater than y\n"
          ]
        }
      ],
      "source": [
        "x=int(input(\"enter value for x: \"))\n",
        "y=int(input(\"enter value for y: \"))\n",
        "\n",
        "if x>y:\n",
        "  print(\"x is greater than y\")\n",
        "\n",
        "else:\n",
        "  print(\"y is greater than x\")"
      ]
    }
  ]
}