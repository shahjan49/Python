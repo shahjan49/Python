{
  "nbformat": 4,
  "nbformat_minor": 0,
  "metadata": {
    "colab": {
      "provenance": [],
      "authorship_tag": "ABX9TyPTVLJygff6XPqITJzq24md"
    },
    "kernelspec": {
      "name": "python3",
      "display_name": "Python 3"
    },
    "language_info": {
      "name": "python"
    }
  },
  "cells": [
    {
      "cell_type": "markdown",
      "source": [
        "The owner of a company decides to give 5% bonus to employees who have been working for his organization for the past 5 years or more.\n",
        "\n",
        "Take current salary and years of experience with the current organization as input from the user and display the incremented salary of the employee (if any)."
      ],
      "metadata": {
        "id": "3KsJoRr7W98B"
      }
    },
    {
      "cell_type": "code",
      "execution_count": 12,
      "metadata": {
        "colab": {
          "base_uri": "https://localhost:8080/"
        },
        "id": "8eN3UoLiWkBP",
        "outputId": "cbceb3e1-ab05-446e-e168-8d6523db9492"
      },
      "outputs": [
        {
          "output_type": "stream",
          "name": "stdout",
          "text": [
            "enter your current salary20000\n",
            "enter your years of experince with this organization5\n",
            "your incremented salary is 21000.0\n"
          ]
        }
      ],
      "source": [
        "current_salary=int(input(\"enter your current salary\"))\n",
        "years=int(input(\"enter your years of experince with this organization\"))\n",
        "\n",
        "if years>=5:\n",
        "  print(\"your incremented salary is\",current_salary+0.05*current_salary)\n",
        "\n",
        "else:\n",
        "  print(\"not eligible for increment, your salary is\",current_salary)"
      ]
    }
  ]
}