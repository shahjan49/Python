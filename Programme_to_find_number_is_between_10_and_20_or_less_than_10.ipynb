{
  "nbformat": 4,
  "nbformat_minor": 0,
  "metadata": {
    "colab": {
      "provenance": [],
      "authorship_tag": "ABX9TyNC/iZPYZ/723xA6Sd6CFSz"
    },
    "kernelspec": {
      "name": "python3",
      "display_name": "Python 3"
    },
    "language_info": {
      "name": "python"
    }
  },
  "cells": [
    {
      "cell_type": "markdown",
      "source": [
        "Take a number and find the number is greater than 10 but less than 20 , greater than 10 and 20 or less than 10.\n"
      ],
      "metadata": {
        "id": "3KsJoRr7W98B"
      }
    },
    {
      "cell_type": "code",
      "execution_count": 17,
      "metadata": {
        "colab": {
          "base_uri": "https://localhost:8080/"
        },
        "id": "8eN3UoLiWkBP",
        "outputId": "17957029-079c-47f6-ade9-117859056601"
      },
      "outputs": [
        {
          "output_type": "stream",
          "name": "stdout",
          "text": [
            "enter value for num: 15\n",
            "num is greater than 10 but less than 20\n"
          ]
        }
      ],
      "source": [
        "num=int(input(\"enter value for num: \"))\n",
        "\n",
        "if num>10:\n",
        "\n",
        "  if num>20:\n",
        "    print(\"num is greater than 10 and is greater than 20\")\n",
        "\n",
        "  else:\n",
        "    print(\"num is greater than 10 but less than 20\")\n",
        "\n",
        "else:\n",
        "  print(\"num is less than 10\")"
      ]
    }
  ]
}