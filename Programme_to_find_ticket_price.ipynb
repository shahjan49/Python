{
  "nbformat": 4,
  "nbformat_minor": 0,
  "metadata": {
    "colab": {
      "provenance": [],
      "authorship_tag": "ABX9TyO/+60QNHQpULDORer8Jvgo"
    },
    "kernelspec": {
      "name": "python3",
      "display_name": "Python 3"
    },
    "language_info": {
      "name": "python"
    }
  },
  "cells": [
    {
      "cell_type": "markdown",
      "source": [
        "In a fare, the entry ticket price for children less than 4 years of age is 0 INR, price for children in the age 4-16 years is 100 INR and for people greater than 16 years of age, the price is 170 INR.\n",
        "\n",
        "Take age as input from the user and display the ticket price of the user."
      ],
      "metadata": {
        "id": "3KsJoRr7W98B"
      }
    },
    {
      "cell_type": "code",
      "execution_count": 5,
      "metadata": {
        "colab": {
          "base_uri": "https://localhost:8080/"
        },
        "id": "8eN3UoLiWkBP",
        "outputId": "6add55c4-bd15-4c60-9593-e8782331f065"
      },
      "outputs": [
        {
          "output_type": "stream",
          "name": "stdout",
          "text": [
            "enter age number: 23\n",
            "ticket price is 170\n"
          ]
        }
      ],
      "source": [
        "age=int(input(\"enter age number: \"))\n",
        "\n",
        "if age<4:\n",
        "  print(\"ticket price is 0 Rs\")\n",
        "\n",
        "elif 4<=age<=16:\n",
        "  print(\"ticket price is 100\")\n",
        "else:\n",
        "  print(\"ticket price is 170\")"
      ]
    }
  ]
}